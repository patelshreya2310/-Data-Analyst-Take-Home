{
 "cells": [
  {
   "cell_type": "code",
   "execution_count": 1,
   "id": "6ffc522b",
   "metadata": {},
   "outputs": [],
   "source": [
    "import pandas as pd\n",
    "import matplotlib.pyplot as plt\n",
    "import sqlite3"
   ]
  },
  {
   "cell_type": "code",
   "execution_count": 6,
   "id": "1c6e4c39",
   "metadata": {},
   "outputs": [],
   "source": [
    "# Load the CSV files\n",
    "users_df = pd.read_csv('USER_TAKEHOME (1).csv')\n",
    "transactions_df = pd.read_csv('TRANSACTION_TAKEHOME (1).csv')\n",
    "products_df = pd.read_csv('PRODUCTS_TAKEHOME (1).csv')\n"
   ]
  },
  {
   "cell_type": "code",
   "execution_count": 8,
   "id": "9d95fd21",
   "metadata": {},
   "outputs": [
    {
     "name": "stdout",
     "output_type": "stream",
     "text": [
      "Users Data Info:\n",
      "<class 'pandas.core.frame.DataFrame'>\n",
      "RangeIndex: 100000 entries, 0 to 99999\n",
      "Data columns (total 6 columns):\n",
      " #   Column        Non-Null Count   Dtype \n",
      "---  ------        --------------   ----- \n",
      " 0   ID            100000 non-null  object\n",
      " 1   CREATED_DATE  100000 non-null  object\n",
      " 2   BIRTH_DATE    96325 non-null   object\n",
      " 3   STATE         95188 non-null   object\n",
      " 4   LANGUAGE      69492 non-null   object\n",
      " 5   GENDER        94108 non-null   object\n",
      "dtypes: object(6)\n",
      "memory usage: 4.6+ MB\n",
      "None\n",
      "\n",
      "Transactions Data Info:\n",
      "<class 'pandas.core.frame.DataFrame'>\n",
      "RangeIndex: 50000 entries, 0 to 49999\n",
      "Data columns (total 8 columns):\n",
      " #   Column          Non-Null Count  Dtype  \n",
      "---  ------          --------------  -----  \n",
      " 0   RECEIPT_ID      50000 non-null  object \n",
      " 1   PURCHASE_DATE   50000 non-null  object \n",
      " 2   SCAN_DATE       50000 non-null  object \n",
      " 3   STORE_NAME      50000 non-null  object \n",
      " 4   USER_ID         50000 non-null  object \n",
      " 5   BARCODE         44238 non-null  float64\n",
      " 6   FINAL_QUANTITY  50000 non-null  object \n",
      " 7   FINAL_SALE      50000 non-null  object \n",
      "dtypes: float64(1), object(7)\n",
      "memory usage: 3.1+ MB\n",
      "None\n",
      "\n",
      "Products Data Info:\n",
      "<class 'pandas.core.frame.DataFrame'>\n",
      "RangeIndex: 845552 entries, 0 to 845551\n",
      "Data columns (total 7 columns):\n",
      " #   Column        Non-Null Count   Dtype  \n",
      "---  ------        --------------   -----  \n",
      " 0   CATEGORY_1    845441 non-null  object \n",
      " 1   CATEGORY_2    844128 non-null  object \n",
      " 2   CATEGORY_3    784986 non-null  object \n",
      " 3   CATEGORY_4    67459 non-null   object \n",
      " 4   MANUFACTURER  619078 non-null  object \n",
      " 5   BRAND         619080 non-null  object \n",
      " 6   BARCODE       841527 non-null  float64\n",
      "dtypes: float64(1), object(6)\n",
      "memory usage: 45.2+ MB\n",
      "None\n"
     ]
    }
   ],
   "source": [
    "\n",
    "# Check for data quality issues\n",
    "print(\"Users Data Info:\")\n",
    "print(users_df.info())  # Check data types and nulls\n",
    "print(\"\\nTransactions Data Info:\")\n",
    "print(transactions_df.info())\n",
    "print(\"\\nProducts Data Info:\")\n",
    "print(products_df.info())"
   ]
  },
  {
   "cell_type": "code",
   "execution_count": 10,
   "id": "fc1e3295",
   "metadata": {},
   "outputs": [
    {
     "data": {
      "text/plain": [
       "845552"
      ]
     },
     "execution_count": 10,
     "metadata": {},
     "output_type": "execute_result"
    }
   ],
   "source": [
    "# Create an in-memory SQLite database\n",
    "conn = sqlite3.connect(':memory:')\n",
    "\n",
    "# Load DataFrames into SQLite tables\n",
    "users_df.to_sql('users', conn, index=False, if_exists='replace')\n",
    "transactions_df.to_sql('transactions', conn, index=False, if_exists='replace')\n",
    "products_df.to_sql('products', conn, index=False, if_exists='replace')"
   ]
  },
  {
   "cell_type": "code",
   "execution_count": 12,
   "id": "3819af2a",
   "metadata": {},
   "outputs": [
    {
     "name": "stdout",
     "output_type": "stream",
     "text": [
      "   total_rows  missing_id  missing_created_date  missing_birth_date  \\\n",
      "0      100000           0                     0                3675   \n",
      "\n",
      "   missing_state  missing_language  missing_gender  \n",
      "0           4812             30508            5892  \n"
     ]
    }
   ],
   "source": [
    "# Check for missing values in the 'users' table\n",
    "query = \"\"\"\n",
    "SELECT \n",
    "    COUNT(*) AS total_rows,\n",
    "    SUM(CASE WHEN ID IS NULL THEN 1 ELSE 0 END) AS missing_id,\n",
    "    SUM(CASE WHEN CREATED_DATE IS NULL THEN 1 ELSE 0 END) AS missing_created_date,\n",
    "    SUM(CASE WHEN BIRTH_DATE IS NULL THEN 1 ELSE 0 END) AS missing_birth_date,\n",
    "    SUM(CASE WHEN STATE IS NULL THEN 1 ELSE 0 END) AS missing_state,\n",
    "    SUM(CASE WHEN LANGUAGE IS NULL THEN 1 ELSE 0 END) AS missing_language,\n",
    "    SUM(CASE WHEN GENDER IS NULL THEN 1 ELSE 0 END) AS missing_gender\n",
    "FROM users;\n",
    "\"\"\"\n",
    "print(pd.read_sql(query, conn))"
   ]
  },
  {
   "cell_type": "code",
   "execution_count": 14,
   "id": "72c43130",
   "metadata": {},
   "outputs": [
    {
     "name": "stdout",
     "output_type": "stream",
     "text": [
      "   total_rows  missing_receipt_id  missing_purchase_date  missing_scan_date  \\\n",
      "0       50000                   0                      0                  0   \n",
      "\n",
      "   missing_store_name  missing_user_id  missing_barcode  \\\n",
      "0                   0                0             5762   \n",
      "\n",
      "   missing_final_quantity  missing_final_sale  \n",
      "0                       0                   0  \n"
     ]
    }
   ],
   "source": [
    "# Check for missing values in the 'transactions' table\n",
    "query = \"\"\"\n",
    "SELECT \n",
    "    COUNT(*) AS total_rows,\n",
    "    SUM(CASE WHEN RECEIPT_ID IS NULL THEN 1 ELSE 0 END) AS missing_receipt_id,\n",
    "    SUM(CASE WHEN PURCHASE_DATE IS NULL THEN 1 ELSE 0 END) AS missing_purchase_date,\n",
    "    SUM(CASE WHEN SCAN_DATE IS NULL THEN 1 ELSE 0 END) AS missing_scan_date,\n",
    "    SUM(CASE WHEN STORE_NAME IS NULL THEN 1 ELSE 0 END) AS missing_store_name,\n",
    "    SUM(CASE WHEN USER_ID IS NULL THEN 1 ELSE 0 END) AS missing_user_id,\n",
    "    SUM(CASE WHEN BARCODE IS NULL THEN 1 ELSE 0 END) AS missing_barcode,\n",
    "    SUM(CASE WHEN FINAL_QUANTITY IS NULL THEN 1 ELSE 0 END) AS missing_final_quantity,\n",
    "    SUM(CASE WHEN FINAL_SALE IS NULL THEN 1 ELSE 0 END) AS missing_final_sale\n",
    "FROM transactions;\n",
    "\"\"\"\n",
    "print(pd.read_sql(query, conn))\n"
   ]
  },
  {
   "cell_type": "code",
   "execution_count": 16,
   "id": "8b68fad5",
   "metadata": {},
   "outputs": [
    {
     "name": "stdout",
     "output_type": "stream",
     "text": [
      "   total_rows  missing_category_1  missing_category_2  missing_category_3  \\\n",
      "0      845552                 111                1424               60566   \n",
      "\n",
      "   missing_category_4  missing_manufacturer  missing_brand  missing_barcode  \n",
      "0              778093                226474         226472             4025  \n"
     ]
    }
   ],
   "source": [
    "# Check for missing values in the 'products' table\n",
    "query = \"\"\"\n",
    "SELECT \n",
    "    COUNT(*) AS total_rows,\n",
    "    SUM(CASE WHEN CATEGORY_1 IS NULL THEN 1 ELSE 0 END) AS missing_category_1,\n",
    "    SUM(CASE WHEN CATEGORY_2 IS NULL THEN 1 ELSE 0 END) AS missing_category_2,\n",
    "    SUM(CASE WHEN CATEGORY_3 IS NULL THEN 1 ELSE 0 END) AS missing_category_3,\n",
    "    SUM(CASE WHEN CATEGORY_4 IS NULL THEN 1 ELSE 0 END) AS missing_category_4,\n",
    "    SUM(CASE WHEN MANUFACTURER IS NULL THEN 1 ELSE 0 END) AS missing_manufacturer,\n",
    "    SUM(CASE WHEN BRAND IS NULL THEN 1 ELSE 0 END) AS missing_brand,\n",
    "    SUM(CASE WHEN BARCODE IS NULL THEN 1 ELSE 0 END) AS missing_barcode\n",
    "FROM products;\n",
    "\"\"\"\n",
    "print(pd.read_sql(query, conn))"
   ]
  },
  {
   "cell_type": "code",
   "execution_count": 18,
   "id": "e1e222d3",
   "metadata": {},
   "outputs": [
    {
     "name": "stdout",
     "output_type": "stream",
     "text": [
      "                                 RECEIPT_ID                   USER_ID  \\\n",
      "0      0000d256-4041-4a3e-adc4-5623fb6e0c99  63b73a7f3d310dceeabd4758   \n",
      "1      0001455d-7a92-4a7b-a1d2-c747af1c8fd3  62c08877baa38d1a1f6c211a   \n",
      "2      00017e0a-7851-42fb-bfab-0baa96e23586  60842f207ac8b7729e472020   \n",
      "3      000239aa-3478-453d-801e-66a82e39c8af  63fcd7cea4f8442c3386b589   \n",
      "4      00026b4c-dfe8-49dd-b026-4c2f0fd5c6a1  6193231ae9b3d75037b0f928   \n",
      "...                                     ...                       ...   \n",
      "24435  fff60bb7-bf93-4e6b-8055-4d7688da7ead  5eb887f71699c213b1abe2e1   \n",
      "24436  fff6c6c8-e002-4262-85ea-25849d9721db  6220b111e9e82c0c6bc24534   \n",
      "24437  fffbb112-3cc5-47c2-b014-08db2f87e0c7  5eb59d6be7012d13941af5e2   \n",
      "24438  fffbfb2a-7c1f-41c9-a5da-628fa7fcc746  62a0c8f7d966665570351bb8   \n",
      "24439  fffe8012-7dcf-4d84-b6c6-feaacab5074a  5f53c62bd683c715b9991b20   \n",
      "\n",
      "       duplicate_count  \n",
      "0                    2  \n",
      "1                    2  \n",
      "2                    2  \n",
      "3                    2  \n",
      "4                    2  \n",
      "...                ...  \n",
      "24435                2  \n",
      "24436                2  \n",
      "24437                2  \n",
      "24438                2  \n",
      "24439                2  \n",
      "\n",
      "[24440 rows x 3 columns]\n"
     ]
    }
   ],
   "source": [
    "# Check for duplicates in the 'transactions' table\n",
    "query = \"\"\"\n",
    "SELECT \n",
    "    RECEIPT_ID, USER_ID, COUNT(*) AS duplicate_count\n",
    "FROM transactions\n",
    "GROUP BY RECEIPT_ID, USER_ID\n",
    "HAVING COUNT(*) > 1;\n",
    "\"\"\"\n",
    "print(pd.read_sql(query, conn))"
   ]
  },
  {
   "cell_type": "code",
   "execution_count": 20,
   "id": "e36e2744",
   "metadata": {},
   "outputs": [
    {
     "name": "stdout",
     "output_type": "stream",
     "text": [
      "             BRAND  receipts_scanned\n",
      "0      NERDS CANDY                 3\n",
      "1             DOVE                 3\n",
      "2             None                 3\n",
      "3          TRIDENT                 2\n",
      "4  SOUR PATCH KIDS                 2\n"
     ]
    }
   ],
   "source": [
    "# Top 5 Brands by Receipts Scanned Among Users 21 and Over\n",
    "\n",
    "query = \"\"\"\n",
    "WITH user_age AS (\n",
    "    SELECT \n",
    "        ID AS USER_ID,\n",
    "        (JULIANDAY('now') - JULIANDAY(BIRTH_DATE)) / 365.25 AS AGE\n",
    "    FROM users\n",
    "    WHERE BIRTH_DATE IS NOT NULL\n",
    ")\n",
    "SELECT \n",
    "    p.BRAND, COUNT(DISTINCT t.RECEIPT_ID) AS receipts_scanned\n",
    "FROM transactions t\n",
    "JOIN user_age u ON t.USER_ID = u.USER_ID\n",
    "JOIN products p ON t.BARCODE = p.BARCODE\n",
    "WHERE u.AGE >= 21\n",
    "GROUP BY p.BRAND\n",
    "ORDER BY receipts_scanned DESC\n",
    "LIMIT 5;\n",
    "\"\"\"\n",
    "print(pd.read_sql(query, conn))"
   ]
  },
  {
   "cell_type": "code",
   "execution_count": 22,
   "id": "15cf5c81",
   "metadata": {},
   "outputs": [
    {
     "name": "stdout",
     "output_type": "stream",
     "text": [
      "         BRAND  total_sales\n",
      "0          CVS        72.00\n",
      "1      TRIDENT        46.72\n",
      "2         DOVE        42.88\n",
      "3  COORS LIGHT        34.96\n",
      "4         None        16.65\n"
     ]
    }
   ],
   "source": [
    "# Top 5 Brands by Sales Among Users with Accounts for at Least Six Months\n",
    "\n",
    "query = \"\"\"\n",
    "WITH user_account_age AS (\n",
    "    SELECT \n",
    "        ID AS USER_ID,\n",
    "        CREATED_DATE,\n",
    "        (JULIANDAY('now') - JULIANDAY(CREATED_DATE)) AS ACCOUNT_AGE_DAYS\n",
    "    FROM users\n",
    ")\n",
    "SELECT \n",
    "    p.BRAND, SUM(CAST(t.FINAL_SALE AS FLOAT)) AS total_sales\n",
    "FROM transactions t\n",
    "JOIN user_account_age u ON t.USER_ID = u.USER_ID\n",
    "JOIN products p ON t.BARCODE = p.BARCODE\n",
    "WHERE u.ACCOUNT_AGE_DAYS >= 180\n",
    "GROUP BY p.BRAND\n",
    "ORDER BY total_sales DESC\n",
    "LIMIT 5;\n",
    "\"\"\"\n",
    "print(pd.read_sql(query, conn))"
   ]
  },
  {
   "cell_type": "code",
   "execution_count": 24,
   "id": "60e84a9b",
   "metadata": {},
   "outputs": [
    {
     "name": "stdout",
     "output_type": "stream",
     "text": [
      "     generation  total_sales  sales_percentage\n",
      "0  Baby Boomers        94.85             50.01\n",
      "1         Gen X        58.63             30.91\n",
      "2   Millennials        36.18             19.08\n"
     ]
    }
   ],
   "source": [
    "# Percentage of Sales in the Health & Wellness Category by Generation python\n",
    "\n",
    "query = \"\"\"\n",
    "WITH generation_sales AS (\n",
    "    SELECT \n",
    "        CASE \n",
    "            WHEN (JULIANDAY('now') - JULIANDAY(u.BIRTH_DATE)) / 365.25 BETWEEN 18 AND 24 THEN 'Gen Z'\n",
    "            WHEN (JULIANDAY('now') - JULIANDAY(u.BIRTH_DATE)) / 365.25 BETWEEN 25 AND 40 THEN 'Millennials'\n",
    "            WHEN (JULIANDAY('now') - JULIANDAY(u.BIRTH_DATE)) / 365.25 BETWEEN 41 AND 56 THEN 'Gen X'\n",
    "            ELSE 'Baby Boomers'\n",
    "        END AS generation,\n",
    "        CAST(t.FINAL_SALE AS FLOAT) AS sales\n",
    "    FROM transactions t\n",
    "    JOIN users u ON t.USER_ID = u.ID\n",
    "    JOIN products p ON t.BARCODE = p.BARCODE\n",
    "    WHERE p.CATEGORY_1 = 'Health & Wellness'\n",
    ")\n",
    "SELECT \n",
    "    generation,\n",
    "    SUM(sales) AS total_sales,\n",
    "    ROUND(SUM(sales) * 100.0 / (SELECT SUM(sales) FROM generation_sales), 2) AS sales_percentage\n",
    "FROM generation_sales\n",
    "GROUP BY generation;\n",
    "\"\"\"\n",
    "print(pd.read_sql(query, conn))"
   ]
  },
  {
   "cell_type": "code",
   "execution_count": 26,
   "id": "5cb0dbd4",
   "metadata": {},
   "outputs": [
    {
     "name": "stdout",
     "output_type": "stream",
     "text": [
      "                    USER_ID  receipts_scanned\n",
      "0  64e62de5ca929250373e6cf5                10\n",
      "1  62925c1be942f00613f7365e                10\n",
      "2  64063c8880552327897186a5                 9\n",
      "3  6327a07aca87b39d76e03864                 7\n",
      "4  624dca0770c07012cd5e6c03                 7\n"
     ]
    }
   ],
   "source": [
    "# 1. Who Are Fetch’s Power Users?\n",
    "# Assumption: Power users are those with the most receipts scanned.\n",
    "\n",
    "query = \"\"\"\n",
    "SELECT \n",
    "    t.USER_ID, COUNT(DISTINCT t.RECEIPT_ID) AS receipts_scanned\n",
    "FROM transactions t\n",
    "GROUP BY t.USER_ID\n",
    "ORDER BY receipts_scanned DESC\n",
    "LIMIT 5;\n",
    "\"\"\"\n",
    "print(pd.read_sql(query, conn))"
   ]
  },
  {
   "cell_type": "code",
   "execution_count": 28,
   "id": "d4373487",
   "metadata": {},
   "outputs": [
    {
     "name": "stdout",
     "output_type": "stream",
     "text": [
      "      BRAND  total_sales\n",
      "0  TOSTITOS       260.99\n"
     ]
    }
   ],
   "source": [
    "# 2. Which is the Leading Brand in the Dips & Salsa Category?\n",
    "# Assumption: The leading brand is the one with the highest sales in the category.\n",
    "\n",
    "query = \"\"\"\n",
    "SELECT \n",
    "    p.BRAND, SUM(CAST(t.FINAL_SALE AS FLOAT)) AS total_sales\n",
    "FROM transactions t\n",
    "JOIN products p ON t.BARCODE = p.BARCODE\n",
    "WHERE p.CATEGORY_2 like(\"%Dips%Salsa%\")\n",
    "GROUP BY p.BRAND\n",
    "ORDER BY total_sales DESC\n",
    "LIMIT 1;\n",
    "\"\"\"\n",
    "print(pd.read_sql(query, conn))"
   ]
  },
  {
   "cell_type": "code",
   "execution_count": 30,
   "id": "eca847db",
   "metadata": {},
   "outputs": [
    {
     "name": "stdout",
     "output_type": "stream",
     "text": [
      "         BRAND  total_sales\n",
      "0  GREAT VALUE      1929.48\n",
      "1    FRITO-LAY      1871.90\n",
      "2        LAY'S      1553.91\n",
      "3         None      1404.43\n",
      "4    HERSHEY'S      1361.03\n"
     ]
    }
   ],
   "source": [
    "# 2. Which is the Leading Brand in the Dips & Salsa Category?\n",
    "# Assumption: The leading brand is the one with the highest sales in the category.\n",
    "\n",
    "query = \"\"\"\n",
    "SELECT \n",
    "    p.BRAND, SUM(CAST(t.FINAL_SALE AS FLOAT)) AS total_sales\n",
    "FROM transactions t\n",
    "JOIN products p ON t.BARCODE = p.BARCODE\n",
    "WHERE p.CATEGORY_1 like(\"%snack%\")\n",
    "GROUP BY p.BRAND\n",
    "ORDER BY total_sales DESC\n",
    "LIMIT 5;\n",
    "\"\"\"\n",
    "result_df = pd.read_sql(query, conn)\n",
    "\n",
    "# Display the result\n",
    "print(result_df)"
   ]
  },
  {
   "cell_type": "code",
   "execution_count": 32,
   "id": "2f3acce9",
   "metadata": {},
   "outputs": [
    {
     "data": {
      "image/png": "[encoded data removed]",
      "text/plain": [
       "<Figure size 800x800 with 1 Axes>"
      ]
     },
     "metadata": {},
     "output_type": "display_data"
    }
   ],
   "source": [
    "# Data for the pie chart\n",
    "brands = result_df['BRAND']\n",
    "sales = result_df['total_sales']\n",
    "\n",
    "# Create the pie chart\n",
    "plt.figure(figsize=(8, 8))  # Set the size of the chart\n",
    "explode = (0.1, 0, 0, 0, 0)  # Explode the first slice (GREAT VALUE)\n",
    "plt.pie(sales, labels=brands, autopct='%1.1f%%', startangle=10,  explode=explode, colors=plt.cm.Paired.colors)\n",
    "\n",
    "# Add a title\n",
    "plt.title('Top 5 Brands by Sales in the Snack Category', fontsize=16)\n",
    "\n",
    "# Display the chart\n",
    "plt.show()"
   ]
  },
  {
   "cell_type": "code",
   "execution_count": 34,
   "id": "2896a1fe",
   "metadata": {},
   "outputs": [
    {
     "data": {
      "text/plain": [
       "<Figure size 640x480 with 0 Axes>"
      ]
     },
     "metadata": {},
     "output_type": "display_data"
    }
   ],
   "source": [
    "plt.savefig('top_brands_pie_chart.png', bbox_inches='tight')"
   ]
  },
  {
   "cell_type": "markdown",
   "id": "34b57cf3",
   "metadata": {},
   "source": [
    "Subject: Data Analysis Summary and Next Steps\n",
    "\n",
    "Body:\n",
    "Hi [Stakeholder's Name],\n",
    "\n",
    "I’ve completed the initial analysis of the provide\n",
    "Next Steps for Stakeholders\n",
    "Investigate Unbranded Products:\n",
    "\n",
    "Explore why a significant portion of sales is attributed to products with no brand information (None). This could be a data quality issue that needs addressing.\n",
    "\n",
    "Focus on Top Brands:\n",
    "\n",
    "Consider marketing strategies or partnerships with GREAT VALUE, FRITO-LAY, and LAY'S, as they dominate the snack category.\n",
    "\n",
    "Expand Analysis:\n",
    "\n",
    "Analyze other categories (e.g., beverages, health & wellness) to identify similar trends and opportunities.d data. Here’s a summary of my findings:\n",
    "\n",
    "Data Quality Issues:\n",
    "\n",
    "Missing values were found in the BIRTH_DATE, STATE, LANGUAGE, and GENDER columns of the users table.\n",
    "\n",
    "Missing values were also found in the BARCODE column of the transactions table and the CATEGORY_1, CATEGORY_2, CATEGORY_3, MANUFACTURER, and BRAND columns of the products table.\n",
    "\n",
    "Interesting Trend:\n",
    "\n",
    "The top 5 brands by receipts scanned among users aged 21 and over are [Brand A, Brand B, Brand C, Brand D, Brand E].\n",
    "\n",
    "Request for Action:\n",
    "\n",
    "Clarification is needed on the CATEGORY_1 field in the products table to ensure accurate categorization.\n",
    "\n",
    "Additional data on user demographics would help refine the analysis of power users.\n",
    "\n"
   ]
  },
  {
   "cell_type": "code",
   "execution_count": null,
   "id": "225aaf02",
   "metadata": {},
   "outputs": [],
   "source": []
  }
 ],
 "metadata": {
  "kernelspec": {
   "display_name": "Python [conda env:base] *",
   "language": "python",
   "name": "conda-base-py"
  },
  "language_info": {
   "codemirror_mode": {
    "name": "ipython",
    "version": 3
   },
   "file_extension": ".py",
   "mimetype": "text/x-python",
   "name": "python",
   "nbconvert_exporter": "python",
   "pygments_lexer": "ipython3",
   "version": "3.12.7"
  }
 },
 "nbformat": 4,
 "nbformat_minor": 5
}
